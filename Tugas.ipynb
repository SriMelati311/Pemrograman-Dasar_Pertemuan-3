{
  "nbformat": 4,
  "nbformat_minor": 0,
  "metadata": {
    "colab": {
      "provenance": [],
      "authorship_tag": "ABX9TyNd+WslBMjx48ir4WvkviIU",
      "include_colab_link": true
    },
    "kernelspec": {
      "name": "python3",
      "display_name": "Python 3"
    },
    "language_info": {
      "name": "python"
    }
  },
  "cells": [
    {
      "cell_type": "markdown",
      "metadata": {
        "id": "view-in-github",
        "colab_type": "text"
      },
      "source": [
        "<a href=\"https://colab.research.google.com/github/SriMelati311/Pemrograman-Dasar_Pertemuan-3/blob/main/Tugas.ipynb\" target=\"_parent\"><img src=\"https://colab.research.google.com/assets/colab-badge.svg\" alt=\"Open In Colab\"/></a>"
      ]
    },
    {
      "cell_type": "code",
      "execution_count": 18,
      "metadata": {
        "colab": {
          "base_uri": "https://localhost:8080/"
        },
        "id": "9ocag-41rBb-",
        "outputId": "50c004f5-549d-405b-cbec-1812380ef393"
      },
      "outputs": [
        {
          "output_type": "stream",
          "name": "stdout",
          "text": [
            "===== Struk Pembelian =====\n",
            "Kopi Susu            : Rp 35,000\n",
            "Ice Coffee           : Rp 40,000\n",
            "Roti                 : Rp 25,000\n",
            "Kue                  : Rp 55,000\n",
            "---------------------------------\n",
            "Member               : YA\n",
            "Subtotal             : Rp 155,000\n",
            "Diskon               : Rp 23,250\n",
            "Harga setelah diskon : Rp 131,750\n",
            "PPN (11%)            : Rp 14,492\n",
            "TOTAL BAYAR          : Rp 146,242\n"
          ]
        }
      ],
      "source": [
        "# Program Kasir Sederhana - Kedai Kopi\n",
        "\n",
        "# Data input (contoh harga item dalam rupiah)\n",
        "kopi_susu = 35000\n",
        "ice_coffee = 40000\n",
        "roti = 25000\n",
        "kue = 55000\n",
        "\n",
        "# Status pelanggan\n",
        "member = True  # True = anggota, False = bukan anggota\n",
        "\n",
        "# 1. Hitung Subtotal\n",
        "subtotal = kopi_susu + ice_coffee + roti + kue\n",
        "\n",
        "# 2. Evaluasi syarat diskon (15% jika member & subtotal > 100000)\n",
        "berhak_diskon = member and subtotal > 100000\n",
        "\n",
        "# 3. Hitung jumlah diskon\n",
        "diskon = subtotal * 0.15 * berhak_diskon\n",
        "\n",
        "# 4. Harga setelah diskon\n",
        "harga_setelah_diskon = subtotal - diskon\n",
        "\n",
        "# 5. Hitung PPN (11%)\n",
        "ppn = harga_setelah_diskon * 0.11\n",
        "\n",
        "# 6. Hitung total akhir\n",
        "total_akhir = harga_setelah_diskon + ppn\n",
        "\n",
        "# --- Output ---\n",
        "print(\"===== Struk Pembelian =====\")\n",
        "print(f\"Kopi Susu            : Rp {kopi_susu:,}\")\n",
        "print(f\"Ice Coffee           : Rp {ice_coffee:,}\")\n",
        "print(f\"Roti                 : Rp {roti:,}\")\n",
        "print(f\"Kue                  : Rp {kue:,}\")\n",
        "print(f\"---------------------------------\")\n",
        "print(f\"Member               : {('TIDAK', 'YA')[member]}\")\n",
        "print(f\"Subtotal             : Rp {subtotal:,}\")\n",
        "print(f\"Diskon               : Rp {diskon:,.0f}\")\n",
        "print(f\"Harga setelah diskon : Rp {harga_setelah_diskon:,.0f}\")\n",
        "print(f\"PPN (11%)            : Rp {ppn:,.0f}\")\n",
        "print(f\"TOTAL BAYAR          : Rp {total_akhir:,.0f}\")"
      ]
    },
    {
      "cell_type": "code",
      "source": [],
      "metadata": {
        "id": "-rX4RtAP3Wb3"
      },
      "execution_count": null,
      "outputs": []
    }
  ]
}