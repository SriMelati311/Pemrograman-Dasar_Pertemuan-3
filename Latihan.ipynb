{
  "nbformat": 4,
  "nbformat_minor": 0,
  "metadata": {
    "colab": {
      "provenance": [],
      "authorship_tag": "ABX9TyNLYSg3Xv3jxMOAijaYyWVJ",
      "include_colab_link": true
    },
    "kernelspec": {
      "name": "python3",
      "display_name": "Python 3"
    },
    "language_info": {
      "name": "python"
    }
  },
  "cells": [
    {
      "cell_type": "markdown",
      "metadata": {
        "id": "view-in-github",
        "colab_type": "text"
      },
      "source": [
        "<a href=\"https://colab.research.google.com/github/SriMelati311/Pemrograman-Dasar_Pertemuan-3/blob/main/Latihan.ipynb\" target=\"_parent\"><img src=\"https://colab.research.google.com/assets/colab-badge.svg\" alt=\"Open In Colab\"/></a>"
      ]
    },
    {
      "cell_type": "code",
      "execution_count": 3,
      "metadata": {
        "colab": {
          "base_uri": "https://localhost:8080/"
        },
        "id": "m_4YaGryl8-n",
        "outputId": "85d267d4-8ca7-4ff4-980d-eb04a35175df"
      },
      "outputs": [
        {
          "output_type": "stream",
          "name": "stdout",
          "text": [
            "2024 adalah tahun kabisat\n",
            "1900 bukan tahun kabisat\n",
            "2000 adalah tahun kabisat\n"
          ]
        }
      ],
      "source": [
        "# Program menentukan tahun kabisat\n",
        "\n",
        "tahun1 = 2024\n",
        "tahun2 = 1900\n",
        "tahun3 = 2000\n",
        "\n",
        "# Dictionary\n",
        "keterangan = {\n",
        "    True: \"adalah tahun kabisat\",\n",
        "    False: \"bukan tahun kabisat\"\n",
        "}\n",
        "\n",
        "print(tahun1, keterangan[(tahun1 % 4 == 0 and tahun1 % 100 != 0) or (tahun1 % 400 == 0)])\n",
        "print(tahun2, keterangan[(tahun2 % 4 == 0 and tahun2 % 100 != 0) or (tahun2 % 400 == 0)])\n",
        "print(tahun3, keterangan[(tahun3 % 4 == 0 and tahun3 % 100 != 0) or (tahun3 % 400 == 0)])"
      ]
    },
    {
      "cell_type": "code",
      "source": [
        "# Program sederhana: Menghitung nilai akhir mahasiswa\n",
        "\n",
        "# Fungsi input\n",
        "nama = input(\"Nama Mahasiswa: \")\n",
        "tugas = float(input(\"Nilai Tugas: \"))\n",
        "uts = float(input(\"Nilai UTS: \"))\n",
        "uas = float(input(\"Nilai UAS: \"))\n",
        "\n",
        "# Operasi aritmatika (rata-rata berbobot)\n",
        "nilai_akhir = (0.3 * tugas) + (0.3 * uts) + (0.4 * uas)\n",
        "\n",
        "# Fungsi output\n",
        "print(\"Nilai Akhir:\", nilai_akhir)"
      ],
      "metadata": {
        "colab": {
          "base_uri": "https://localhost:8080/"
        },
        "id": "U5HHGqONWSkY",
        "outputId": "c22581b5-46a6-4ade-c12f-d05930161000"
      },
      "execution_count": 9,
      "outputs": [
        {
          "output_type": "stream",
          "name": "stdout",
          "text": [
            "Nama Mahasiswa: Sri Melati\n",
            "Nilai Tugas: 98\n",
            "Nilai UTS: 90\n",
            "Nilai UAS: 95\n",
            "Nilai Akhir: 94.4\n"
          ]
        }
      ]
    },
    {
      "cell_type": "code",
      "source": [],
      "metadata": {
        "id": "NTCktethXBpf"
      },
      "execution_count": null,
      "outputs": []
    }
  ]
}