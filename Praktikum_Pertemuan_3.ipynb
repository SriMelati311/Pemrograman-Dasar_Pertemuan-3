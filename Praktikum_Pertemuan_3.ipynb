{
  "nbformat": 4,
  "nbformat_minor": 0,
  "metadata": {
    "colab": {
      "provenance": [],
      "authorship_tag": "ABX9TyPZgm2fHZ3rGtkSJk/t7QXu",
      "include_colab_link": true
    },
    "kernelspec": {
      "name": "python3",
      "display_name": "Python 3"
    },
    "language_info": {
      "name": "python"
    }
  },
  "cells": [
    {
      "cell_type": "markdown",
      "metadata": {
        "id": "view-in-github",
        "colab_type": "text"
      },
      "source": [
        "<a href=\"https://colab.research.google.com/github/SriMelati311/Pemrograman-Dasar_Pertemuan-3/blob/main/Praktikum_Pertemuan_3.ipynb\" target=\"_parent\"><img src=\"https://colab.research.google.com/assets/colab-badge.svg\" alt=\"Open In Colab\"/></a>"
      ]
    },
    {
      "cell_type": "code",
      "execution_count": null,
      "metadata": {
        "colab": {
          "base_uri": "https://localhost:8080/"
        },
        "id": "cYB2vgJQfiSL",
        "outputId": "da630e3a-eed8-46d3-ec83-b2a1e2c14f6b"
      },
      "outputs": [
        {
          "name": "stdout",
          "output_type": "stream",
          "text": [
            "Berapa porsi makan yang Anda beli? :2.5\n",
            "Siapa Nama Pelanggan? : Sri Melati\n",
            "Berapa Tinggi Badan Anda? : 153.6\n",
            "Berapa Berat Badan Anda? : 50.3\n"
          ]
        }
      ],
      "source": [
        "# input\n",
        "\n",
        "total = float (input(\"Berapa porsi makan yang Anda beli? :\"))\n",
        "Nama = str (input(\"Siapa Nama Pelanggan? : \"))\n",
        "Tinggi_Badan = float (input(\"Berapa Tinggi Badan Anda? : \"))\n",
        "Berat_Badan = float (input(\"Berapa Berat Badan Anda? : \"))"
      ]
    },
    {
      "cell_type": "code",
      "source": [
        "# Output\n",
        "\n",
        "food = \"Mie Kwetiau\"\n",
        "drink = \"Jeruk Panas\"\n",
        "snaks = \"French Fries\"\n",
        "porsi = 5\n",
        "durasi_makan = 0.5\n",
        "\n",
        "print(\"Gio Sedang Makan\", food)\n",
        "print(\"Abigail Sedang Memesan \"+ drink)\n",
        "print(\"Astri Sedang Memakan %s\" %(snaks))\n",
        "print(\"Astri Memakan Snaks Sebanyak %d\" %(porsi))\n",
        "print(\"Berapa lama Gio makan mie kwetiau? %f\" % (durasi_makan), \"jam\")\n",
        "print(\"Berapa lama Gio makan mie kwetiau? %.1f\" % (durasi_makan), \"jam\")\n"
      ],
      "metadata": {
        "colab": {
          "base_uri": "https://localhost:8080/"
        },
        "id": "aYTiPx4PlI5E",
        "outputId": "83cfaa0c-681b-4dcc-9faf-90a059c124c2"
      },
      "execution_count": null,
      "outputs": [
        {
          "output_type": "stream",
          "name": "stdout",
          "text": [
            "Gio Sedang Makan Mie Kwetiau\n",
            "Abigail Sedang Memesan Jeruk Panas\n",
            "Astri Sedang Memakan French Fries\n",
            "Astri Memakan Snaks Sebanyak 5\n",
            "Berapa lama Gio makan mie kwetiau? 0.500000 jam\n",
            "Berapa lama Gio makan mie kwetiau? 0.5 jam\n"
          ]
        }
      ]
    },
    {
      "cell_type": "code",
      "source": [
        "# Kalkulator Sederhana\n",
        "\n",
        "a = 20\n",
        "b = 5\n",
        "\n",
        "print(\"Penjumlahan:\", a+b)\n",
        "print(\"Pengurangan:\", a-b)\n",
        "print(\"Perkalian:\", a*b)\n",
        "print(\"Perpangkatan:\", a**b)\n",
        "print(\"Pembagian:\", a/b)\n",
        "print(\"pembagian bulat:\", a//b)\n",
        "print(\"modulus:\", a%b)"
      ],
      "metadata": {
        "colab": {
          "base_uri": "https://localhost:8080/"
        },
        "id": "zklphRjZnH2j",
        "outputId": "8da60f78-5cf8-44c0-e559-52895ff4aba3"
      },
      "execution_count": null,
      "outputs": [
        {
          "output_type": "stream",
          "name": "stdout",
          "text": [
            "Penjumlahan: 25\n",
            "Pengurangan: 15\n",
            "Perkalian: 100\n",
            "Perpangkatan: 3200000\n",
            "Pembagian: 4.0\n",
            "pembagian bulat: 4\n",
            "modulus: 0\n"
          ]
        }
      ]
    },
    {
      "cell_type": "code",
      "source": [
        "# Mengecek Bilangan\n",
        "\n",
        "bilangan = 8\n",
        "hasil = (bilangan > 0) and (bilangan  % 2 == 0)\n",
        "hasil1 = (bilangan < 0) and (bilangan  % 3 == 0)\n",
        "\n",
        "print(\"Genap dan positif?\", hasil)\n",
        "print(\"Genap dan positif?\", hasil1)"
      ],
      "metadata": {
        "colab": {
          "base_uri": "https://localhost:8080/"
        },
        "id": "Kv49Em4Go2iz",
        "outputId": "4cca7b6f-6901-4378-8071-bf98be731fd5"
      },
      "execution_count": null,
      "outputs": [
        {
          "output_type": "stream",
          "name": "stdout",
          "text": [
            "Genap dan positif? True\n",
            "Genap dan positif? False\n"
          ]
        }
      ]
    },
    {
      "cell_type": "code",
      "source": [
        "# kalkulator Kasir\n",
        "\n",
        "harga_makan = int(input(\"Berapa harga mie ayam per porsi? \"))\n",
        "jumlah_makan = int(input(\"Berapa porsi yang anda beli? \"))\n",
        "total_makan = harga_makan * jumlah_makan\n",
        "\n",
        "print(f\"Harga makan per porsi = {harga_makan}, totalnya adalah {total_makan}\")"
      ],
      "metadata": {
        "colab": {
          "base_uri": "https://localhost:8080/"
        },
        "id": "hYUUxlBfpN5h",
        "outputId": "51dd3b99-85ea-426b-d961-e391c2d720af"
      },
      "execution_count": null,
      "outputs": [
        {
          "output_type": "stream",
          "name": "stdout",
          "text": [
            "Berapa harga mie ayam per porsi? 15000\n",
            "Berapa porsi yang anda beli? 3\n",
            "Harga makan per porsi = 15000, totalnya adalah 45000\n"
          ]
        }
      ]
    },
    {
      "cell_type": "code",
      "source": [
        "# Konversi Waktu\n",
        "\n",
        "total_detik = 3600\n",
        "jam = total_detik // 3600\n",
        "sisa_detik = total_detik % 3600\n",
        "menit = sisa_detik // 60\n",
        "detik = sisa_detik % 60\n",
        "\n",
        "print(f\"Hasil Konversi: {jam} Jam, {menit} Menit, {detik} Detik\")"
      ],
      "metadata": {
        "colab": {
          "base_uri": "https://localhost:8080/"
        },
        "id": "JNjL7kpEraQm",
        "outputId": "e3b28ec2-c252-4d9c-cbb0-e5a7fce7641f"
      },
      "execution_count": null,
      "outputs": [
        {
          "output_type": "stream",
          "name": "stdout",
          "text": [
            "Hasil Konversi: 1 Jam, 0 Menit, 0 Detik\n"
          ]
        }
      ]
    },
    {
      "cell_type": "code",
      "source": [
        "# Konversi Waktu setelah di Modifikasi\n",
        "total_detik = int(input(\"total detik: \")) # Input dari keyboard\n",
        "\n",
        "# Perhitungan konversi\n",
        "jam = total_detik // 3600\n",
        "sisa_detik = total_detik % 3600\n",
        "menit = sisa_detik // 60\n",
        "detik = sisa_detik % 60\n",
        "\n",
        "# Output hasil\n",
        "print(f\"Hasil Konversi: {jam} Jam, {menit} Menit, {detik} Detik\")"
      ],
      "metadata": {
        "colab": {
          "base_uri": "https://localhost:8080/"
        },
        "id": "s804Emsp-9q8",
        "outputId": "12b943bd-8f34-4249-acdb-65ba554d147d"
      },
      "execution_count": null,
      "outputs": [
        {
          "output_type": "stream",
          "name": "stdout",
          "text": [
            "total detik: 35800\n",
            "Hasil Konversi: 9 Jam, 56 Menit, 40 Detik\n"
          ]
        }
      ]
    },
    {
      "cell_type": "code",
      "source": [
        "# Menghitung Nilai Akhir mahasiswa\n",
        "\n",
        "tugas = 80\n",
        "uts = 70\n",
        "uas = 90\n",
        "nilai_akhir = (0.3 * tugas) + (0.3 * uts) + (0.4 * uas)\n",
        "\n",
        "print(\"Nilai akhir =\", nilai_akhir)"
      ],
      "metadata": {
        "colab": {
          "base_uri": "https://localhost:8080/"
        },
        "id": "k4nsheGytR83",
        "outputId": "c6655520-0d13-4a60-85c7-e9216ad8f085"
      },
      "execution_count": null,
      "outputs": [
        {
          "output_type": "stream",
          "name": "stdout",
          "text": [
            "Nilai akhir = 81.0\n"
          ]
        }
      ]
    },
    {
      "cell_type": "code",
      "source": [
        "nilai_mahasiswa = 93\n",
        "standar_kelulusan = 85\n",
        "apakah_lulus = nilai_mahasiswa >= standar_kelulusan\n",
        "perlu_remedial = nilai_mahasiswa < standar_kelulusan\n",
        "\n",
        "print(f\"Nilai Mahasiswa: {nilai_mahasiswa}\")\n",
        "print(f\"Standar Kelulusan: {standar_kelulusan}\")\n",
        "print(f\"Apakah Mahasiswa Lulus? {apakah_lulus}\")\n",
        "print(f\"Perlu Remedial? {perlu_remedial}\")"
      ],
      "metadata": {
        "colab": {
          "base_uri": "https://localhost:8080/"
        },
        "id": "Xv9kqgSv1t7M",
        "outputId": "049cb6bb-1b5b-4dd3-93c8-c4ebe909c1f2"
      },
      "execution_count": null,
      "outputs": [
        {
          "output_type": "stream",
          "name": "stdout",
          "text": [
            "Nilai Mahasiswa: 93\n",
            "Standar Kelulusan: 85\n",
            "Apakah Mahasiswa Lulus? True\n",
            "Perlu Remedial? False\n"
          ]
        }
      ]
    },
    {
      "cell_type": "code",
      "source": [
        "# Modifikasi 1\n",
        "nilai_mahasiswa = float(input(\"Nilai Mahasiswa: \"))\n",
        "standar_kelulusan = float(input(\"Standar Kelulusan: \"))\n",
        "apakah_lulus = nilai_mahasiswa >= standar_kelulusan\n",
        "perlu_remedial = nilai_mahasiswa < standar_kelulusan\n",
        "\n",
        "# Modifikasi 2\n",
        "nilai1 = float(input(\"Nilai 1: \"))\n",
        "nilai2 = float(input(\"Nilai 2: \"))\n",
        "nilai3 = float(input(\"Nilai 3: \"))\n",
        "nilai4 = float(input(\"Nilai 4: \"))\n",
        "nilai5 = float(input(\"Nilai 5: \"))\n",
        "nilai_akhir = ((0.2 * nilai1) + (0.2 * nilai2) + (0.2 * nilai3)\n",
        "              + (0.2 * nilai4) + (0.2 * nilai5))\n",
        "\n",
        "# Output Hasil\n",
        "print(f\"Apakah Mahasiswa Lulus? {apakah_lulus}\")\n",
        "print(f\"Perlu Remedial? {perlu_remedial}\")\n",
        "print(f\"Nilai Akhir: {nilai_akhir:.2f}\")"
      ],
      "metadata": {
        "colab": {
          "base_uri": "https://localhost:8080/"
        },
        "id": "fidORW9vFQZR",
        "outputId": "9f498e4e-407e-4fb8-fa3c-77446b8ff12a"
      },
      "execution_count": null,
      "outputs": [
        {
          "output_type": "stream",
          "name": "stdout",
          "text": [
            "Nilai Mahasiswa: 93.2\n",
            "Standar Kelulusan: 85\n",
            "Nilai 1: 89\n",
            "Nilai 2: 91\n",
            "Nilai 3: 93\n",
            "Nilai 4: 95\n",
            "Nilai 5: 98\n",
            "Apakah Mahasiswa Lulus? True\n",
            "Perlu Remedial? False\n",
            "Nilai Akhir: 93.20\n"
          ]
        }
      ]
    },
    {
      "cell_type": "code",
      "source": [
        "belanja = 850000\n",
        "diskon = (0, 0.1 * belanja)[belanja > 500000]\n",
        "total_harga = belanja - diskon\n",
        "\n",
        "print(\"Total harga setelah setelah diskon =\", total_harga)"
      ],
      "metadata": {
        "colab": {
          "base_uri": "https://localhost:8080/"
        },
        "id": "_aaRKPig2hIB",
        "outputId": "8374dd1b-9413-43a5-c823-05785389d4a1"
      },
      "execution_count": null,
      "outputs": [
        {
          "output_type": "stream",
          "name": "stdout",
          "text": [
            "Total harga setelah setelah diskon = 765000.0\n"
          ]
        }
      ]
    },
    {
      "cell_type": "code",
      "source": [
        "# Modifikasi\n",
        "belanja = float(input(\"Total Belanja = \"))\n",
        "diskon = (0, 0.35 * belanja)[belanja > 1000000]\n",
        "total_harga = belanja - diskon\n",
        "\n",
        "print(\"Diskon = %.0f\" %(diskon))\n",
        "print(\"Total harga setelah diskon = %.0f\" %(total_harga))"
      ],
      "metadata": {
        "id": "dQtHjPfr72Ig",
        "colab": {
          "base_uri": "https://localhost:8080/"
        },
        "outputId": "72693a94-9e5a-4d94-8eff-58fffe830c9c"
      },
      "execution_count": null,
      "outputs": [
        {
          "output_type": "stream",
          "name": "stdout",
          "text": [
            "Total Belanja = 1800000\n",
            "Diskon = 630000\n",
            "Total harga setelah diskon = 1170000\n"
          ]
        }
      ]
    }
  ]
}